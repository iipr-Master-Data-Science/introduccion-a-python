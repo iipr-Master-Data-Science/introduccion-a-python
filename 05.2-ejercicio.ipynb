{
 "cells": [
  {
   "cell_type": "markdown",
   "metadata": {},
   "source": [
    "Crear una clase `Fraccion` que implemente la representación de un número como una fracción (i.e. numerador/denominador).\n",
    "\n",
    "Debe implementar los siguientes métodos:\n",
    "* Suma\n",
    "* Resta\n",
    "* Multiplicación\n",
    "* Inversa\n",
    "* Imprimir su representación\n",
    "* Extra: Posibilidad de convertir el objeto a flotante."
   ]
  },
  {
   "cell_type": "code",
   "execution_count": 68,
   "metadata": {},
   "outputs": [
    {
     "name": "stdout",
     "output_type": "stream",
     "text": [
      "a + b =  Fraction(37/28)\n",
      "a - b =  Fraction(5/28)\n",
      "a * b =  Fraction(3/7)\n",
      "inv(a) =  Fraction(4/3)\n",
      "float(a) =  0.75\n"
     ]
    }
   ],
   "source": [
    "class Fraction(object):\n",
    "    \"\"\"\n",
    "    Class for dealing with fractions rather than floating point objects.\n",
    "    \n",
    "    Attributes:\n",
    "    -----------\n",
    "        num (int): Numerator.\n",
    "        den (int): Denominator. Cannot be 0.\n",
    "    \"\"\"\n",
    "    \n",
    "    import math\n",
    "    \n",
    "    def __init__(self, num, den):\n",
    "        if den == 0:\n",
    "            raise ValueError('The denominator cannot be 0!!')\n",
    "        elif not (isinstance(num, int) and isinstance(den, int)):\n",
    "            raise ValueError('Both the numerator and the denominator need to be integers!!')\n",
    "        self.num = num\n",
    "        self.den = den\n",
    "        \n",
    "    def __str__(self):\n",
    "        return 'Fraction({0}/{1})'.format(self.num, self.den)\n",
    "    \n",
    "    def simplify(self):\n",
    "        negative = False\n",
    "        if (self.num < 0 and self.den > 0) or (self.num > 0 and self.den < 0):\n",
    "            negative = True\n",
    "            self.num, self.den = abs(self.num), abs(self.den)\n",
    "        elif self.num < 0 and self.den < 0:\n",
    "            self.num, self.den = abs(self.num), abs(self.den)\n",
    "        gcd = math.gcd(self.num, self.den)\n",
    "        self.num, self.den = self.num // gcd, self.den // gcd\n",
    "        if negative:\n",
    "            self.num *= -1 \n",
    "    \n",
    "    def __add__(self, other):\n",
    "        new_den = self.den * other.den\n",
    "        new_num = other.den * self.num + self.den * other.num\n",
    "        res = Fraction(new_num, new_den)\n",
    "        res.simplify()\n",
    "        return res\n",
    "    \n",
    "    def __sub__(self, other):\n",
    "        new_den = self.den * other.den\n",
    "        new_num = other.den * self.num - self.den * other.num\n",
    "        res = Fraction(new_num, new_den)\n",
    "        res.simplify()\n",
    "        return res\n",
    "    \n",
    "    def __mul__(self, other):\n",
    "        new_num = self.num * other.num\n",
    "        new_den = self.den * other.den\n",
    "        res = Fraction(new_num, new_den)\n",
    "        res.simplify()\n",
    "        return res\n",
    "    \n",
    "    def inv(self):\n",
    "        res = Fraction(self.den, self.num)\n",
    "        if res.den == 0:\n",
    "            raise ValueError('The denominator cannot be 0!!')\n",
    "        return res\n",
    "    \n",
    "    def __float__(self):\n",
    "        return self.num / self.den\n",
    "        \n",
    "a = Fraction(3, 4)\n",
    "b = Fraction(4, 7)\n",
    "print('a + b = ', a + b)\n",
    "print('a - b = ', a - b)\n",
    "print('a * b = ', a * b)\n",
    "print('inv(a) = ', a.inv())\n",
    "print('float(a) = ', float(a))"
   ]
  }
 ],
 "metadata": {
  "kernelspec": {
   "display_name": "Python 3",
   "language": "python",
   "name": "python3"
  },
  "language_info": {
   "codemirror_mode": {
    "name": "ipython",
    "version": 3
   },
   "file_extension": ".py",
   "mimetype": "text/x-python",
   "name": "python",
   "nbconvert_exporter": "python",
   "pygments_lexer": "ipython3",
   "version": "3.6.5"
  }
 },
 "nbformat": 4,
 "nbformat_minor": 2
}
