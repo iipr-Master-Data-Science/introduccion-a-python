{
 "cells": [
  {
   "cell_type": "markdown",
   "metadata": {},
   "source": [
    "A partir del código siguiente se pide"
   ]
  },
  {
   "cell_type": "code",
   "execution_count": 1,
   "metadata": {},
   "outputs": [],
   "source": [
    "import math\n",
    "\n",
    "class Shape(object):\n",
    "    \"\"\"A generic shape object.\"\"\"\n",
    "    \n",
    "    def area(self):\n",
    "        \"\"\"Return area of the shape.\"\"\"\n",
    "        pass\n",
    "    \n",
    "    def perimeter(self):\n",
    "        \"\"\"Return perimeter of the shape.\"\"\"\n",
    "        pass"
   ]
  },
  {
   "cell_type": "markdown",
   "metadata": {},
   "source": [
    "Implementar las clases `Square`, `Rectangle` y  `Circle`, sobreescribiendo los métodos `area` y `perimeter` para que muestren los resultados correctos"
   ]
  },
  {
   "cell_type": "markdown",
   "metadata": {},
   "source": [
    "Implementar las operaciones de suma, resta, y multiplicación, suponiendo que la suma, resta y multiplicación solo se puede realizar entre objetos del mismo tipo, y que la operación se realiza sobre sus dimensiones (es decir, la suma de dos círculos se realiza sumando sus radios de su circunferencia."
   ]
  },
  {
   "cell_type": "code",
   "execution_count": 2,
   "metadata": {},
   "outputs": [],
   "source": [
    "class Rectangle(Shape):\n",
    "    \"\"\"\n",
    "    Class for dealing with rectangle shapes.\n",
    "    \n",
    "    Attributes:\n",
    "    -----------\n",
    "        base (float): Lenght of the base.\n",
    "        height (float): Lenght of the height.\n",
    "\n",
    "    \"\"\"\n",
    "    \n",
    "    def __init__(self, base, height):\n",
    "        if base <= 0 or height <= 0:\n",
    "            raise ValueError('Both the base and height need to be > 0!!')\n",
    "        self.base = base\n",
    "        self.height = height\n",
    "        self.__name__ = 'Rectangle'\n",
    "        \n",
    "    def __str__(self):\n",
    "        return '<Rectangle -> {{base: {0}, height: {1}}}>'.format(self.base, self.height)\n",
    "    \n",
    "    def area(self):\n",
    "        return round(self.base * self.height, 2)\n",
    "        \n",
    "    def perimeter(self):\n",
    "        return round(2 * (self.base + self.height), 2)\n",
    "    \n",
    "    def __add__(self, other):\n",
    "        if type(self) != type(other):\n",
    "            raise TypeError('Both elements need to be {} for adding them!!'.format(self.__name__))\n",
    "        new_class = globals()[self.__name__]\n",
    "        return new_class(self.base + other.base, self.height + other.height)\n",
    "    \n",
    "    def __sub__(self, other):\n",
    "        if type(self) != type(other):\n",
    "            raise TypeError('Both elements need to be {} for adding them!!'.format(self.__name__))\n",
    "        elif self.base <= other.base or self.height <= other.height:\n",
    "            raise ValueError('The result is an empty {}'.format(self.__name__))\n",
    "        new_class = globals()[self.__name__]\n",
    "        return new_class(self.base - other.base, self.height - other.height)\n",
    "    \n",
    "    def __mul__(self, other):\n",
    "        if type(self) != type(other):\n",
    "            raise TypeError('Both elements need to be {} for adding them!!'.format(self.__name__))\n",
    "        new_class = globals()[self.__name__]\n",
    "        return new_class(self.base * other.base, self.height * other.height)"
   ]
  },
  {
   "cell_type": "code",
   "execution_count": 3,
   "metadata": {},
   "outputs": [],
   "source": [
    "class Square(Rectangle):\n",
    "    \"\"\"\n",
    "    Class for dealing with square shapes.\n",
    "    \n",
    "    Attributes:\n",
    "    -----------\n",
    "        side (float): Lenght of the side.\n",
    "\n",
    "    \"\"\"\n",
    "    \n",
    "    def __init__(self, side, side_1=None):\n",
    "        if side_1 is not None and side != side_1:\n",
    "            raise ValueError('Both sides need to be equal!!')\n",
    "        super(Square, self).__init__(side, side)\n",
    "        self.__name__ = 'Square'\n",
    "        \n",
    "    def __str__(self):\n",
    "        return '<Square -> {{side: {}}}>'.format(self.base)"
   ]
  },
  {
   "cell_type": "code",
   "execution_count": 4,
   "metadata": {},
   "outputs": [],
   "source": [
    "class Circle(Shape):\n",
    "    \"\"\"\n",
    "    Class for dealing with circle shapes.\n",
    "    \n",
    "    Attributes:\n",
    "    -----------\n",
    "        radius (float): Lenght of the radius.\n",
    "\n",
    "    \"\"\"\n",
    "    \n",
    "    def __init__(self, radius):\n",
    "        if radius <= 0:\n",
    "            raise ValueError('The radius needs to be > 0!!')\n",
    "        self.radius = radius\n",
    "        self.__name__ = 'Circle'\n",
    "        \n",
    "    def __str__(self):\n",
    "        return '<Circle -> {{radius: {}}}>'.format(self.radius)\n",
    "    \n",
    "    def area(self):\n",
    "        return round(math.pi * self.radius ** 2, 2)\n",
    "        \n",
    "    def perimeter(self):\n",
    "        return round(2 * math.pi * self.radius, 2)\n",
    "    \n",
    "    def __add__(self, other):\n",
    "        if type(self) != type(other):\n",
    "            raise TypeError('Both elements need to be {} for adding them!!'.format(self.__name__))\n",
    "        return Circle(self.radius + other.radius)\n",
    "    \n",
    "    def __sub__(self, other):\n",
    "        if type(self) != type(other):\n",
    "            raise TypeError('Both elements need to be {} for adding them!!'.format(self.__name__))\n",
    "        elif self.radius <= other.radius:\n",
    "            raise ValueError('The result is an empty {}'.format(self.__name__))\n",
    "        return Circle(self.radius - other.radius)\n",
    "    \n",
    "    def __mul__(self, other):\n",
    "        if type(self) != type(other):\n",
    "            raise TypeError('Both elements need to be {} for adding them!!'.format(self.__name__))\n",
    "        return Circle(self.radius * other.radius)"
   ]
  },
  {
   "cell_type": "code",
   "execution_count": 5,
   "metadata": {},
   "outputs": [
    {
     "name": "stdout",
     "output_type": "stream",
     "text": [
      "<Rectangle -> {base: 2.5, height: 2}> , area:  5.0 , perimeter:  9.0\n",
      "<Square -> {side: 1}> , area:  1 , perimeter:  4\n",
      "<Circle -> {radius: 3}> , area:  28.27 , perimeter:  18.85\n",
      "\n",
      "rect_1 + rect_2 =  <Rectangle -> {base: 5.5, height: 2.5}>\n",
      "sq_1 * sq_2 =  <Square -> {side: 0.5}>\n",
      "circ_1 - circ_2 =  <Circle -> {radius: 1}>\n",
      "area(circ_1 * circ_2) =  113.1\n"
     ]
    }
   ],
   "source": [
    "rect_1, rect_2 = Rectangle(2.5, 2), Rectangle(3, 0.5)\n",
    "sq_1, sq_2 = Square(1), Square(0.5)\n",
    "circ_1, circ_2 = Circle(3), Circle(2)\n",
    "\n",
    "print(rect_1, ', area: ', rect_1.area(), ', perimeter: ', rect_1.perimeter())\n",
    "print(sq_1, ', area: ', sq_1.area(), ', perimeter: ', sq_1.perimeter())\n",
    "print(circ_1, ', area: ', circ_1.area(), ', perimeter: ', circ_1.perimeter())\n",
    "print()\n",
    "print('rect_1 + rect_2 = ', rect_1 + rect_2)\n",
    "#print('rect_1 - rect_2 = ', rect_1 - rect_2)\n",
    "print('sq_1 * sq_2 = ', sq_1 * sq_2)\n",
    "print('circ_1 - circ_2 = ', circ_1 - circ_2)\n",
    "print('area(circ_1 * circ_2) = ', (circ_1 * circ_2).area())"
   ]
  }
 ],
 "metadata": {
  "kernelspec": {
   "display_name": "Python 3",
   "language": "python",
   "name": "python3"
  },
  "language_info": {
   "codemirror_mode": {
    "name": "ipython",
    "version": 3
   },
   "file_extension": ".py",
   "mimetype": "text/x-python",
   "name": "python",
   "nbconvert_exporter": "python",
   "pygments_lexer": "ipython3",
   "version": "3.6.5"
  }
 },
 "nbformat": 4,
 "nbformat_minor": 2
}
