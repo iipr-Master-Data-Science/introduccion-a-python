{
 "cells": [
  {
   "cell_type": "markdown",
   "metadata": {},
   "source": [
    "Convertir el ejemplo anterior a un paquete, con el siguiente formato (o similar).\n",
    "\n",
    "```\n",
    "lyrics_processor/__init__.py\n",
    "                 process.py\n",
    "                 frequencies.py\n",
    "                 songs/__init__.py\n",
    "                 songs/example.py\n",
    "```"
   ]
  },
  {
   "cell_type": "code",
   "execution_count": 15,
   "metadata": {},
   "outputs": [
    {
     "name": "stdout",
     "output_type": "stream",
     "text": [
      "[(22, ['que']), (15, ['tu', 'a']), (12, ['quiero']), (10, ['despacito', 'sube']), (9, ['y', 'de', 'favoritos']), (8, ['te', 'tus', 'pasito', 'poquito']), (6, ['oh', 'el', 'mi']), (5, ['no', 'un', 'yo', 'vamos'])]\n"
     ]
    }
   ],
   "source": [
    "import lyrics_processor.frequencies\n",
    "import lyrics_processor.process\n",
    "from lyrics_processor.songs import example\n",
    "\n",
    "words = lyrics_processor.process.split_into_words(example.despasito)\n",
    "freqs = lyrics_processor.frequencies.words_to_frequencies(words)\n",
    "print(lyrics_processor.frequencies.get_more_often_user_words(freqs, 5))"
   ]
  },
  {
   "cell_type": "code",
   "execution_count": 13,
   "metadata": {},
   "outputs": [
    {
     "data": {
      "text/plain": [
       "<module 'lyrics_processor.frequencies' from '/home/jovyan/work/Git/Intro_Python/introduccion-a-python/lyrics_processor/frequencies.py'>"
      ]
     },
     "execution_count": 13,
     "metadata": {},
     "output_type": "execute_result"
    }
   ],
   "source": [
    "import importlib\n",
    "importlib.reload(lyrics_processor.frequencies)"
   ]
  }
 ],
 "metadata": {
  "kernelspec": {
   "display_name": "Python 3",
   "language": "python",
   "name": "python3"
  },
  "language_info": {
   "codemirror_mode": {
    "name": "ipython",
    "version": 3
   },
   "file_extension": ".py",
   "mimetype": "text/x-python",
   "name": "python",
   "nbconvert_exporter": "python",
   "pygments_lexer": "ipython3",
   "version": "3.6.5"
  }
 },
 "nbformat": 4,
 "nbformat_minor": 2
}
