{
 "cells": [
  {
   "cell_type": "code",
   "execution_count": 11,
   "metadata": {
    "collapsed": true
   },
   "outputs": [
    {
     "name": "stdout",
     "output_type": "stream",
     "text": [
      "l: [96, 4, 31, 8, 22, 15, 4, 39, 17, 83, 27, 99, 33, 53, 88, 13, 13, 22, 55, 97, 58, 91, 45, 97, 93, 98, 30, 24, 25, 65, 65, 67, 11, 62, 3, 25, 44, 18, 36, 56, 94, 14, 18, 32, 10, 39, 63, 44, 39, 99, 82, 86, 67, 30, 77, 48, 69, 77, 74, 74, 57, 1, 44, 50, 40, 15, 36, 7, 50, 58, 78, 71, 17, 66, 68, 93, 47, 28, 16, 36, 65, 19, 62, 33, 54, 78, 89, 63, 7, 9, 65, 61, 75, 90, 96, 89, 29, 39, 26, 36]\n",
      "\n",
      "m: [79, 78, 35, 70, 4, 88, 26, 81, 71, 2, 11, 8, 47, 15, 75, 35, 27, 3, 29, 42, 47, 7, 62, 52, 59, 57, 11, 30, 93, 27, 50, 92, 41, 58, 92, 97, 77, 24, 78, 32, 14, 30, 7, 5, 70, 87, 16, 68, 21, 5, 67, 78, 99, 60, 45, 64, 85, 65, 85, 44, 52, 93, 63, 51, 27, 27, 70, 94, 72, 58, 23, 61, 79, 45, 16, 87, 97, 23, 28, 43, 93, 83, 66, 24, 72, 20, 85, 38, 13, 46, 54, 89, 70, 2, 28, 95, 77, 69, 73, 6]\n"
     ]
    },
    {
     "data": {
      "text/plain": [
       "[1,\n",
       " 9,\n",
       " 10,\n",
       " 17,\n",
       " 18,\n",
       " 19,\n",
       " 22,\n",
       " 25,\n",
       " 31,\n",
       " 33,\n",
       " 36,\n",
       " 39,\n",
       " 40,\n",
       " 48,\n",
       " 53,\n",
       " 55,\n",
       " 56,\n",
       " 74,\n",
       " 82,\n",
       " 86,\n",
       " 90,\n",
       " 91,\n",
       " 96,\n",
       " 98]"
      ]
     },
     "execution_count": 11,
     "metadata": {},
     "output_type": "execute_result"
    }
   ],
   "source": [
    "# Escribir el codigo necesario para generar una lista que contenga\n",
    "# los elementos de l que no están en m\n",
    "\n",
    "import random\n",
    "\n",
    "l = [int(100*random.random()) for i in range(100)]\n",
    "m = [int(100*random.random()) for i in range(100)]\n",
    "\n",
    "print(\"l:\", l)\n",
    "print()\n",
    "print(\"m:\", m)\n",
    "\n",
    "# Escribe aquí el código\n",
    "list(set(l).difference(set(m)))\n",
    "\n",
    "\n"
   ]
  },
  {
   "cell_type": "code",
   "execution_count": 23,
   "metadata": {},
   "outputs": [
    {
     "name": "stdout",
     "output_type": "stream",
     "text": [
      "[0, 1, 1, 2, 3, 5, 8, 13, 21, 34, 55, 89, 144, 233, 377, 610, 987, 1597, 2584, 4181]\n"
     ]
    }
   ],
   "source": [
    "# Escribir el código necesario para calcular la sucesión de Fibonacci\n",
    "# para los \"n\" primeros términos, utilizando el esqueleto siguiente\n",
    "\n",
    "n = 20\n",
    "\n",
    "fib = [0, 1]  # Los dos primeros valores de la sucesión.\n",
    "\n",
    "# Escribe aquí el código\n",
    "for i in range(2, n):\n",
    "    fib.append(fib[i-1] + fib[i-2])\n",
    "else:\n",
    "    print(fib)\n"
   ]
  },
  {
   "cell_type": "code",
   "execution_count": 67,
   "metadata": {},
   "outputs": [
    {
     "name": "stdout",
     "output_type": "stream",
     "text": [
      "I will cheer for you! Enter a word: hola\n",
      "Enthusiasm level (1-10): 2\n",
      "Give me an h! h\n",
      "Give me an o! o\n",
      "Give me an l! l\n",
      "Give me an a! a\n",
      "What does that spell?\n",
      "hola !!!\n",
      "hola !!!\n"
     ]
    }
   ],
   "source": [
    "# El siguiente código hace uso de un bucle while, cuando\n",
    "# no es necesario. Escribir el código utilizando un bucle for\n",
    "\n",
    "an_letters = \"aefhilmnorsxAEFHILMNORSX\"\n",
    "word = input(\"I will cheer for you! Enter a word: \")  # Input nos pide que introduzcamos un valor por consola\n",
    "times = int(input(\"Enthusiasm level (1-10): \"))  # El valor es siempre un string, pero necesitamos un entero,\n",
    "                                                 # \"int()\" lo convierte a entero\n",
    "\n",
    "#i = 0\n",
    "#while i < len(word):\n",
    "#    char = word[i]\n",
    "#    if char in an_letters:\n",
    "#        print(\"Give me an \" + char + \"! \" + char)\n",
    "#    else:\n",
    "#        print(\"Give me a  \" + char + \"! \" + char)\n",
    "#    i += 1\n",
    "#print(\"What does that spell?\")\n",
    "#for i in range(times):\n",
    "#    print(word, \"!!!\")\n",
    "    \n",
    "for char in word:\n",
    "    if char in an_letters:\n",
    "        print(\"Give me an \" + char + \"! \" + char)\n",
    "    else:\n",
    "        print(\"Give me a  \" + char + \"! \" + char)\n",
    "print(\"What does that spell?\")\n",
    "for i in range(times):\n",
    "    print(word, \"!!!\")"
   ]
  },
  {
   "cell_type": "code",
   "execution_count": 43,
   "metadata": {},
   "outputs": [
    {
     "name": "stdout",
     "output_type": "stream",
     "text": [
      "l: [1, 2, 3, 4, 5]\n",
      "m: [5, 4, 3, 2, 1]\n"
     ]
    }
   ],
   "source": [
    "# El siguiente código debería crear una lista \"m\"\n",
    "# que contiene los elemenos de \"l\" en orden inverso,\n",
    "# pero contiene errores.\n",
    "\n",
    "l = [1, 2, 3, 4, 5]\n",
    "\n",
    "m = l.copy()\n",
    "for i in range(len(m) // 2):\n",
    "    j = len(m) - i - 1\n",
    "    temp = m[i]\n",
    "    m[i] = m[j]\n",
    "    m[j] = temp\n",
    "    \n",
    "print(\"l:\", l)\n",
    "print(\"m:\", m)"
   ]
  },
  {
   "cell_type": "code",
   "execution_count": 94,
   "metadata": {},
   "outputs": [
    {
     "data": {
      "text/plain": [
       "[2, 3, 5, 7, 11, 13, 17, 19, 23, 29]"
      ]
     },
     "execution_count": 94,
     "metadata": {},
     "output_type": "execute_result"
    }
   ],
   "source": [
    "# El siguiente código debería obtener los números primos que\n",
    "# existan hasta \"n\", incluyendo \"n\", pero contiene errores.\n",
    "\n",
    "n = 30\n",
    "\n",
    "# Inicializo la lista de numeros primos\n",
    "primos = []\n",
    "primos.append(2)\n",
    "    \n",
    "# Itero sobre los numeros\n",
    "for i in range(3, n+1):\n",
    "    # go through each of 2...n\n",
    "    for j in range(2, i):\n",
    "        # check if not divisible by elem of list\n",
    "        if i % j == 0:\n",
    "            break\n",
    "    else:\n",
    "        primos.append(i)\n",
    "            \n",
    "primos"
   ]
  },
  {
   "cell_type": "code",
   "execution_count": 90,
   "metadata": {},
   "outputs": [
    {
     "data": {
      "text/plain": [
       "[2, 3, 5, 7, 11, 13, 17, 19, 23, 29]"
      ]
     },
     "execution_count": 90,
     "metadata": {},
     "output_type": "execute_result"
    }
   ],
   "source": [
    "# El siguiente código debería obtener los números primos que\n",
    "# existan hasta \"n\", incluyendo \"n\", pero contiene errores.\n",
    "\n",
    "n = 30\n",
    "\n",
    "# Inicializo la lista de numeros primos\n",
    "primos = []\n",
    "primos.append(2)\n",
    "    \n",
    "# Itero sobre los numeros\n",
    "for i in range(3, n+1):\n",
    "    # go through each of 2...n\n",
    "    for j in range(2, i):\n",
    "        # check if not divisible by elem of list\n",
    "        if j == i - 1:\n",
    "            primos.append(i)\n",
    "            break\n",
    "        elif i % j != 0:\n",
    "            continue\n",
    "        else:\n",
    "            break\n",
    "            \n",
    "primos"
   ]
  },
  {
   "cell_type": "code",
   "execution_count": null,
   "metadata": {},
   "outputs": [],
   "source": []
  }
 ],
 "metadata": {
  "kernelspec": {
   "display_name": "Python 3",
   "language": "python",
   "name": "python3"
  },
  "language_info": {
   "codemirror_mode": {
    "name": "ipython",
    "version": 3
   },
   "file_extension": ".py",
   "mimetype": "text/x-python",
   "name": "python",
   "nbconvert_exporter": "python",
   "pygments_lexer": "ipython3",
   "version": "3.6.5"
  }
 },
 "nbformat": 4,
 "nbformat_minor": 2
}
